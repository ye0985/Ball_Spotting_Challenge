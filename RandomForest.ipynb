{
 "cells": [
  {
   "cell_type": "markdown",
   "id": "3de8b86c",
   "metadata": {},
   "source": [
    "# 데이터 확인"
   ]
  },
  {
   "cell_type": "code",
   "execution_count": 58,
   "id": "5712c278",
   "metadata": {
    "scrolled": true
   },
   "outputs": [
    {
     "data": {
      "text/html": [
       "<div>\n",
       "<style scoped>\n",
       "    .dataframe tbody tr th:only-of-type {\n",
       "        vertical-align: middle;\n",
       "    }\n",
       "\n",
       "    .dataframe tbody tr th {\n",
       "        vertical-align: top;\n",
       "    }\n",
       "\n",
       "    .dataframe thead th {\n",
       "        text-align: right;\n",
       "    }\n",
       "</style>\n",
       "<table border=\"1\" class=\"dataframe\">\n",
       "  <thead>\n",
       "    <tr style=\"text-align: right;\">\n",
       "      <th></th>\n",
       "      <th>time</th>\n",
       "      <th>id</th>\n",
       "      <th>x</th>\n",
       "      <th>y</th>\n",
       "    </tr>\n",
       "  </thead>\n",
       "  <tbody>\n",
       "    <tr>\n",
       "      <th>0</th>\n",
       "      <td>0.0</td>\n",
       "      <td>0</td>\n",
       "      <td>1.019608</td>\n",
       "      <td>12.908276</td>\n",
       "    </tr>\n",
       "    <tr>\n",
       "      <th>1</th>\n",
       "      <td>0.1</td>\n",
       "      <td>0</td>\n",
       "      <td>19.902481</td>\n",
       "      <td>35.185548</td>\n",
       "    </tr>\n",
       "    <tr>\n",
       "      <th>2</th>\n",
       "      <td>0.2</td>\n",
       "      <td>0</td>\n",
       "      <td>38.785354</td>\n",
       "      <td>57.462819</td>\n",
       "    </tr>\n",
       "    <tr>\n",
       "      <th>3</th>\n",
       "      <td>0.3</td>\n",
       "      <td>0</td>\n",
       "      <td>57.668227</td>\n",
       "      <td>79.740091</td>\n",
       "    </tr>\n",
       "    <tr>\n",
       "      <th>4</th>\n",
       "      <td>0.4</td>\n",
       "      <td>0</td>\n",
       "      <td>76.551100</td>\n",
       "      <td>102.017362</td>\n",
       "    </tr>\n",
       "    <tr>\n",
       "      <th>...</th>\n",
       "      <td>...</td>\n",
       "      <td>...</td>\n",
       "      <td>...</td>\n",
       "      <td>...</td>\n",
       "    </tr>\n",
       "    <tr>\n",
       "      <th>20195</th>\n",
       "      <td>9.6</td>\n",
       "      <td>199</td>\n",
       "      <td>-10.300753</td>\n",
       "      <td>86.341290</td>\n",
       "    </tr>\n",
       "    <tr>\n",
       "      <th>20196</th>\n",
       "      <td>9.7</td>\n",
       "      <td>199</td>\n",
       "      <td>-10.418545</td>\n",
       "      <td>87.238268</td>\n",
       "    </tr>\n",
       "    <tr>\n",
       "      <th>20197</th>\n",
       "      <td>9.8</td>\n",
       "      <td>199</td>\n",
       "      <td>-10.536337</td>\n",
       "      <td>88.135247</td>\n",
       "    </tr>\n",
       "    <tr>\n",
       "      <th>20198</th>\n",
       "      <td>9.9</td>\n",
       "      <td>199</td>\n",
       "      <td>-10.654129</td>\n",
       "      <td>89.032226</td>\n",
       "    </tr>\n",
       "    <tr>\n",
       "      <th>20199</th>\n",
       "      <td>10.0</td>\n",
       "      <td>199</td>\n",
       "      <td>-10.771921</td>\n",
       "      <td>89.929204</td>\n",
       "    </tr>\n",
       "  </tbody>\n",
       "</table>\n",
       "<p>20200 rows × 4 columns</p>\n",
       "</div>"
      ],
      "text/plain": [
       "       time   id          x           y\n",
       "0       0.0    0   1.019608   12.908276\n",
       "1       0.1    0  19.902481   35.185548\n",
       "2       0.2    0  38.785354   57.462819\n",
       "3       0.3    0  57.668227   79.740091\n",
       "4       0.4    0  76.551100  102.017362\n",
       "...     ...  ...        ...         ...\n",
       "20195   9.6  199 -10.300753   86.341290\n",
       "20196   9.7  199 -10.418545   87.238268\n",
       "20197   9.8  199 -10.536337   88.135247\n",
       "20198   9.9  199 -10.654129   89.032226\n",
       "20199  10.0  199 -10.771921   89.929204\n",
       "\n",
       "[20200 rows x 4 columns]"
      ]
     },
     "execution_count": 58,
     "metadata": {},
     "output_type": "execute_result"
    }
   ],
   "source": [
    "import pandas as pd\n",
    "\n",
    "DATAPATH = '/Users/sim-yeji/PythonImageWorkspace/HA/merged_file_4d.csv'\n",
    "\n",
    "data = pd.read_csv(DATAPATH,comment=\"#\")\n",
    "data"
   ]
  },
  {
   "cell_type": "code",
   "execution_count": 60,
   "id": "e2b477f5",
   "metadata": {},
   "outputs": [
    {
     "data": {
      "text/plain": [
       "<bound method NDFrame.describe of        time   id          x           y\n",
       "0       0.0    0   1.019608   12.908276\n",
       "1       0.1    0  19.902481   35.185548\n",
       "2       0.2    0  38.785354   57.462819\n",
       "3       0.3    0  57.668227   79.740091\n",
       "4       0.4    0  76.551100  102.017362\n",
       "...     ...  ...        ...         ...\n",
       "20195   9.6  199 -10.300753   86.341290\n",
       "20196   9.7  199 -10.418545   87.238268\n",
       "20197   9.8  199 -10.536337   88.135247\n",
       "20198   9.9  199 -10.654129   89.032226\n",
       "20199  10.0  199 -10.771921   89.929204\n",
       "\n",
       "[20200 rows x 4 columns]>"
      ]
     },
     "execution_count": 60,
     "metadata": {},
     "output_type": "execute_result"
    }
   ],
   "source": [
    "data.describe"
   ]
  },
  {
   "cell_type": "code",
   "execution_count": 61,
   "id": "cbe20e59",
   "metadata": {},
   "outputs": [
    {
     "data": {
      "text/plain": [
       "(20200, 4)"
      ]
     },
     "execution_count": 61,
     "metadata": {},
     "output_type": "execute_result"
    }
   ],
   "source": [
    "data.shape"
   ]
  },
  {
   "cell_type": "markdown",
   "id": "a9d46e36",
   "metadata": {},
   "source": [
    "# 가속도 계산, 레이블 지정"
   ]
  },
  {
   "cell_type": "code",
   "execution_count": 97,
   "id": "6ff888e8",
   "metadata": {},
   "outputs": [
    {
     "name": "stdout",
     "output_type": "stream",
     "text": [
      "[[-0.0, -0.0], [0.0, 0.0], [-0.0, -0.0], [-0.0, -0.0], [0.0, 0.0], [-0.0, 0.0], [-0.0, -0.0], [-0.0, 0.0], [0.0, 0.0], [0.0, 0.0], [-0.0, -0.0], [0.0, 0.0], [0.0, 0.0], [-0.0, -0.0], [-0.0, 0.0], [0.0, -0.0], [0.0, -0.0], [-0.0, -0.0], [0.0, -0.0], [0.0, -0.0], [-0.0, -0.0], [-0.0, -0.0], [-0.0, 0.0], [-0.0, 0.0], [-0.0, 0.0], [0.0, 0.0], [0.0, 0.0], [0.0, 0.0], [-0.0, 0.0], [-0.0, 0.0], [-0.0, -0.0], [-0.0, 0.0], [-0.0, 0.0], [0.0, 0.0], [-0.0, -0.0], [0.0, 0.0], [-0.0, -0.0], [0.0, 0.0], [0.0, 0.0], [0.0, 0.0], [0.0, -0.0], [-0.0, -0.0], [-0.0, 0.0], [-0.0, -0.0], [-0.0, -0.0], [0.0, 0.0], [0.0, 0.0], [0.0, 0.0], [-0.0, -0.0], [0.0, 0.0], [0.0, -999.5], [0.0, -999.5], [-0.0, -999.5], [0.0, -999.5], [-0.0, -999.5], [-0.0, -999.5], [-0.0, -999.5], [0.0, -999.5], [0.0, -999.5], [-0.0, -999.5], [0.0, -999.5], [0.0, -999.5], [-0.0, -999.5], [-0.0, -999.5], [-0.0, -999.5], [-0.0, -999.5], [0.0, -999.5], [-0.0, -999.5], [0.0, -999.5], [0.0, -999.5], [0.0, -999.5], [-0.0, -999.5], [0.0, -999.5], [0.0, -999.5], [-0.0, -999.5], [-0.0, -999.5], [-0.0, -999.5], [0.0, -999.5], [-0.0, -999.5], [0.0, -999.5], [0.0, -999.5], [0.0, -999.5], [0.0, -999.5], [0.0, -999.5], [-0.0, -999.5], [0.0, -999.5], [0.0, -999.5], [-0.0, -999.5], [0.0, -999.5], [-0.0, -999.5], [0.0, -999.5], [-0.0, -999.5], [-0.0, -999.5], [0.0, -999.5], [-0.0, -999.5], [-0.0, -999.5], [0.0, -999.5], [0.0, -999.5], [0.0, -999.5], [0.0, -999.5], [-0.24, 0.52], [-0.74, 1.5], [-1.76, 0.8], [-0.51, 1.69], [-1.18, 1.23], [-1.81, 1.24], [-1.29, 1.23], [-1.45, 0.92], [-0.05, 0.29], [-1.61, 0.05], [-1.9, 0.32], [-0.16, 1.81], [-1.32, 1.15], [-1.38, 1.05], [-0.33, 1.57], [-0.38, 0.31], [-1.84, 0.72], [-0.67, 1.47], [-0.9, 1.21], [-0.93, 0.08], [-1.73, 0.31], [-1.18, 1.07], [-1.7, 0.27], [-0.19, 0.86], [-0.79, 0.72], [-1.83, 0.94], [-0.97, 1.68], [-1.44, 0.6], [-1.92, 1.69], [-1.78, 1.0], [-1.25, 0.29], [-1.18, 0.74], [-0.26, 1.81], [-0.21, 1.23], [-1.5, 0.99], [-0.11, 0.85], [-1.47, 0.34], [-0.7, 1.3], [-0.33, 1.47], [-0.37, 0.58], [-0.64, 0.65], [-1.07, 0.05], [-1.4, 1.48], [-1.08, -0.09], [-0.81, 1.39], [-1.84, 1.1], [-1.1, 1.69], [-0.82, 0.4], [-0.61, 0.62], [-1.78, 1.19], [-1.35, 7.97], [-1.62, 5.97], [-1.7, 5.05], [-1.8, 5.78], [-1.91, 7.45], [-0.92, 6.23], [-1.38, 7.22], [-1.65, 7.6], [-1.7, 8.45], [-1.07, 9.23], [-1.24, 9.08], [-1.07, 7.37], [-1.43, 9.69], [-1.47, 9.04], [-1.45, 7.01], [-0.88, 7.83], [-1.84, 8.28], [-1.2, 5.38], [-0.97, 6.14], [-1.3, 8.69], [-1.45, 8.32], [-1.28, 9.56], [-1.68, 5.73], [-1.63, 9.53], [-1.85, 6.84], [-1.66, 7.78], [-1.16, 7.41], [-1.11, 5.88], [-1.41, 9.58], [-1.31, 5.73], [-1.4, 9.88], [-1.54, 7.14], [-1.08, 7.08], [-1.3, 9.34], [-1.1, 5.13], [-1.48, 7.59], [-1.39, 8.51], [-1.27, 9.05], [-0.96, 8.5], [-1.55, 7.28], [-1.1, 8.17], [-1.48, 8.46], [-1.67, 6.21], [-1.8, 7.59], [-1.03, 8.52], [-1.78, 7.13], [-1.52, 5.38], [-1.06, 5.72], [-1.25, 5.72], [-1.18, 8.97]]\n",
      "[0, 0, 0, 0, 0, 0, 0, 0, 0, 0, 0, 0, 0, 0, 0, 0, 0, 0, 0, 0, 0, 0, 0, 0, 0, 0, 0, 0, 0, 0, 0, 0, 0, 0, 0, 0, 0, 0, 0, 0, 0, 0, 0, 0, 0, 0, 0, 0, 0, 0, 1, 1, 1, 1, 1, 1, 1, 1, 1, 1, 1, 1, 1, 1, 1, 1, 1, 1, 1, 1, 1, 1, 1, 1, 1, 1, 1, 1, 1, 1, 1, 1, 1, 1, 1, 1, 1, 1, 1, 1, 1, 1, 1, 1, 1, 1, 1, 1, 1, 1, 2, 2, 2, 2, 2, 2, 2, 2, 2, 2, 2, 2, 2, 2, 2, 2, 2, 2, 2, 2, 2, 2, 2, 2, 2, 2, 2, 2, 2, 2, 2, 2, 2, 2, 2, 2, 2, 2, 2, 2, 2, 2, 2, 2, 2, 2, 2, 2, 2, 2, 2, 2, 2, 2, 2, 2, 2, 2, 2, 2, 2, 2, 2, 2, 2, 2, 2, 2, 2, 2, 2, 2, 2, 2, 2, 2, 2, 2, 2, 2, 2, 2, 2, 2, 2, 2, 2, 2, 2, 2, 2, 2, 2, 2, 2, 2, 2, 2, 2, 2]\n"
     ]
    }
   ],
   "source": [
    "\n",
    "import csv\n",
    "import numpy as np\n",
    "\n",
    "filename = 'merged_file_4d.csv'\n",
    "data = np.loadtxt(filename, delimiter=',', skiprows=1)\n",
    "ids = np.unique(data[:, 1])  # 물체 id 목록\n",
    "\n",
    "features = []\n",
    "labels = []\n",
    "\n",
    "# 물체별 가속도 계산\n",
    "for id in ids:\n",
    "    idx = np.where(data[:, 1] == id)[0]\n",
    "    t = data[idx, 0]\n",
    "    x = data[idx, 2]\n",
    "    y = data[idx, 3]\n",
    "\n",
    "    if id < 100:\n",
    "        dt = t[1] - t[0]\n",
    "        vx = np.diff(x) / dt  # x 방향 속도\n",
    "        vy = np.diff(y) / dt  # y 방향 속도\n",
    "        ax = np.diff(vx) / dt  # x 방향 가속도\n",
    "        ay = np.diff(vy) / dt  # y 방향 가속도\n",
    "        avg_ax = round(np.mean(ax),2)  # x 방향 평균 가속도\n",
    "        avg_ay = round(np.mean(ay),2)  # y 방향 평균 가속도\n",
    "\n",
    "     \n",
    "        if avg_ax == 0 and avg_ay == 0:\n",
    "            label = 0  # 직선 운동\n",
    "        elif avg_ax == 0 and avg_ay < 0:\n",
    "            label = 1  # 포물선 운동\n",
    "        else:\n",
    "            label = 2  # 바운싱 운동\n",
    "\n",
    "        features.append([avg_ax, avg_ay])\n",
    "        labels.append(label)\n",
    "\n",
    "    if id >= 100:\n",
    "        vx = np.diff(x) / np.diff(t)  # x 방향 가속도\n",
    "        vy = np.diff(y) / np.diff(t)  # y 방향 가속도\n",
    "        avg_ax = round(np.mean(vx),2)  # x 방향 평균 가속도\n",
    "        avg_ay = round(np.mean(vy),2)  # y 방향 평균 가속도\n",
    "\n",
    "      \n",
    "        if avg_ax == 0 and avg_ay == 0:\n",
    "            label = 0  # 직선 운동\n",
    "        elif avg_ax == 0 and avg_ay < 0:\n",
    "            label = 1  # 포물선 운동\n",
    "        else:\n",
    "            label = 2  # 바운싱 운동\n",
    "\n",
    "    \n",
    "        features.append([avg_ax, avg_ay])\n",
    "        labels.append(label)\n",
    "print(features)\n",
    "print(labels)"
   ]
  },
  {
   "cell_type": "markdown",
   "id": "17cb1517",
   "metadata": {},
   "source": [
    "# train, test split"
   ]
  },
  {
   "cell_type": "code",
   "execution_count": 98,
   "id": "26c5ba62",
   "metadata": {},
   "outputs": [],
   "source": [
    "from sklearn.model_selection import train_test_split\n",
    "\n",
    "\n",
    "X_train, X_test, y_train, y_test = train_test_split(features, labels, test_size=0.3, random_state=42)\n"
   ]
  },
  {
   "cell_type": "code",
   "execution_count": 99,
   "id": "6e05b3a0",
   "metadata": {},
   "outputs": [
    {
     "name": "stdout",
     "output_type": "stream",
     "text": [
      "Train set dimension is (140, 2)\n",
      "Test set dimension is (60, 2)\n"
     ]
    }
   ],
   "source": [
    "from sklearn.preprocessing import StandardScaler\n",
    "\n",
    "# 데이터 컬럼 단위 정규화\n",
    "normalizer = StandardScaler()\n",
    "X_train = normalizer.fit_transform(X_train)\n",
    "X_test = normalizer.transform(X_test)\n",
    "\n",
    "print(f'Train set dimension is {X_train.shape}')\n",
    "print(f'Test set dimension is {X_test.shape}')"
   ]
  },
  {
   "cell_type": "markdown",
   "id": "c53acd93",
   "metadata": {},
   "source": [
    "# 모델링"
   ]
  },
  {
   "cell_type": "markdown",
   "id": "a7d632e6",
   "metadata": {},
   "source": [
    "## 1. 단순 모델링 (사용자가 하이퍼 파라미터 정의)"
   ]
  },
  {
   "cell_type": "code",
   "execution_count": 104,
   "id": "345a5a06",
   "metadata": {},
   "outputs": [
    {
     "data": {
      "text/plain": [
       "RandomForestClassifier(random_state=42)"
      ]
     },
     "execution_count": 104,
     "metadata": {},
     "output_type": "execute_result"
    }
   ],
   "source": [
    "from sklearn.ensemble import RandomForestClassifier\n",
    "\n",
    "# RandomForestClassifier 모델 생성 학습\n",
    "rfc = RandomForestClassifier(n_estimators=100, random_state=42) #n_estimators 트리의 개수\n",
    "rfc.fit(X_train, y_train)"
   ]
  },
  {
   "cell_type": "code",
   "execution_count": 105,
   "id": "0eb4ff19",
   "metadata": {},
   "outputs": [
    {
     "name": "stdout",
     "output_type": "stream",
     "text": [
      "Train set에 대한 성능\n",
      "정확도:1.0000\n",
      "\n",
      "\n",
      "Test set에 대한 성능\n",
      "정확도:0.9833\n"
     ]
    }
   ],
   "source": [
    "from sklearn.metrics import accuracy_score\n",
    "\n",
    "# Train set에 대한 성능\n",
    "y_pred = rfc.predict(X_train)\n",
    "acc = accuracy_score(y_true = y_train, y_pred =y_pred)\n",
    "print(\"Train set에 대한 성능\")  \n",
    "print(f\"정확도:{acc:0.4f}\")  \n",
    "\n",
    "# Test set에 대한 성능\n",
    "y_pred = rfc.predict(X_test)\n",
    "acc = accuracy_score(y_true = y_test, y_pred =y_pred)\n",
    "print(\"\\n\")  \n",
    "print(\"Test set에 대한 성능\")  \n",
    "print(f\"정확도:{acc:0.4f}\")"
   ]
  },
  {
   "cell_type": "markdown",
   "id": "bc34632e",
   "metadata": {},
   "source": [
    "## 2.단일 하이퍼 파라미터에 대한 Grid search"
   ]
  },
  {
   "cell_type": "code",
   "execution_count": 107,
   "id": "54babd38",
   "metadata": {},
   "outputs": [
    {
     "name": "stderr",
     "output_type": "stream",
     "text": [
      "100%|███████████████████████████████████████████| 50/50 [00:19<00:00,  2.58it/s]\n"
     ]
    }
   ],
   "source": [
    "from tqdm import tqdm\n",
    "from sklearn.model_selection import cross_val_score\n",
    "\n",
    "cv_scores = []\n",
    "estimator_list =[i for i in range(0,50,1)] #0-50까지 중에 최적 tree개수 찾기\n",
    "for i in tqdm(range(0,50,1)):\n",
    "    rfc = RandomForestClassifier(n_estimators=i+1,\n",
    "                                 n_jobs=-1,\n",
    "                                 random_state=2021)\n",
    "    score = cross_val_score(rfc, X_train, y_train, cv=10, scoring = 'accuracy').mean()\n",
    "    cv_scores.append(score)\n",
    "\n",
    "best_e = [estimator_list[i] for i in range(len(cv_scores)) if cv_scores[i] == np.max(cv_scores)]\n"
   ]
  },
  {
   "cell_type": "code",
   "execution_count": 108,
   "id": "401cdee7",
   "metadata": {},
   "outputs": [
    {
     "name": "stdout",
     "output_type": "stream",
     "text": [
      "최적의 tree개수:13\n",
      "\n",
      "\n",
      "Train set에 대한 성능 (10 fold cross validation)\n",
      "정확도:1.0000\n"
     ]
    }
   ],
   "source": [
    "print(f\"최적의 tree개수:{(cv_scores.index(max(cv_scores)))+1}\")\n",
    "print(\"\\n\")  \n",
    "print(\"Train set에 대한 성능 (10 fold cross validation)\")  \n",
    "print(f\"정확도:{max(cv_scores):0.4f}\") "
   ]
  },
  {
   "cell_type": "code",
   "execution_count": 109,
   "id": "1a759f8a",
   "metadata": {},
   "outputs": [
    {
     "data": {
      "image/png": "[encoded data removed]",
      "text/plain": [
       "<Figure size 2000x1000 with 1 Axes>"
      ]
     },
     "metadata": {},
     "output_type": "display_data"
    }
   ],
   "source": [
    "import matplotlib.pyplot as plt\n",
    "\n",
    "plt.figure(figsize=(20,10))\n",
    "plt.legend([\"Cross validation scores\"], fontsize=20)\n",
    "plt.plot(estimator_list,cv_scores, marker='o', linestyle='dashed')\n",
    "plt.xlabel(\"the number of trees\", fontsize=20 )\n",
    "plt.ylabel(\"Accuracy\", fontsize=20)\n",
    "plt.title(\"Accuracy Score\", fontsize=25)\n",
    "plt.axvline(best_e[0], color='r', linestyle='--', linewidth=2)\n",
    "plt.show()"
   ]
  },
  {
   "cell_type": "code",
   "execution_count": 110,
   "id": "ae326a59",
   "metadata": {},
   "outputs": [
    {
     "name": "stdout",
     "output_type": "stream",
     "text": [
      "Train set에 대한 성능\n",
      "정확도:1.0000\n",
      "\n",
      "\n",
      "Test set에 대한 성능\n",
      "정확도:0.9833\n"
     ]
    }
   ],
   "source": [
    "# n_estimators=13\n",
    "rfc = RandomForestClassifier(n_estimators=13, n_jobs=-1, random_state=2021)\n",
    "rfc.fit(X_train, y_train)\n",
    "\n",
    "# Train set에 대한 성능\n",
    "y_pred = rfc.predict(X_train)\n",
    "acc = accuracy_score(y_true = y_train, y_pred =y_pred)\n",
    "print(\"Train set에 대한 성능\")  \n",
    "print(f\"정확도:{acc:0.4f}\")  \n",
    "\n",
    "# Test set에 대한 성능\n",
    "y_pred = rfc.predict(X_test)\n",
    "acc = accuracy_score(y_true = y_test, y_pred =y_pred)\n",
    "print(\"\\n\")  \n",
    "print(\"Test set에 대한 성능\")  \n",
    "print(f\"정확도:{acc:0.4f}\")  "
   ]
  },
  {
   "cell_type": "markdown",
   "id": "e62f8cdb",
   "metadata": {},
   "source": [
    "## 3. 전체 하이퍼 파라미터에 대한 Grid search (파라미터 최적화)"
   ]
  },
  {
   "cell_type": "code",
   "execution_count": 111,
   "id": "6d88a46c",
   "metadata": {},
   "outputs": [
    {
     "name": "stdout",
     "output_type": "stream",
     "text": [
      "Fitting 10 folds for each of 162 candidates, totalling 1620 fits\n"
     ]
    },
    {
     "data": {
      "text/plain": [
       "GridSearchCV(cv=10, estimator=RandomForestClassifier(random_state=2021),\n",
       "             n_jobs=12,\n",
       "             param_grid={'criterion': ['gini', 'entropy'],\n",
       "                         'max_depth': [10, 15, 20],\n",
       "                         'max_features': ['auto', 'sqrt', 'log2'],\n",
       "                         'max_leaf_nodes': [50, 100, 200],\n",
       "                         'n_estimators': [50, 60, 70]},\n",
       "             verbose=1)"
      ]
     },
     "execution_count": 111,
     "metadata": {},
     "output_type": "execute_result"
    }
   ],
   "source": [
    "from sklearn.model_selection import GridSearchCV\n",
    "\n",
    "#내가 직접 파라미터 범위 찾기 [50, 60, 70]\n",
    "rfc = RandomForestClassifier(random_state=2021)\n",
    "param_grid = {\n",
    "    'n_estimators': [50, 60, 70],\n",
    "    'max_depth': [10,15,20],\n",
    "    'max_leaf_nodes': [50, 100, 200],\n",
    "    'criterion':['gini', 'entropy'],\n",
    "    'max_features':['auto','sqrt', 'log2']\n",
    "}\n",
    "\n",
    "CV_rfc = GridSearchCV(estimator=rfc, param_grid=param_grid, cv=10, verbose=1 ,n_jobs=12)\n",
    "CV_rfc.fit(X_train, y_train)"
   ]
  },
  {
   "cell_type": "code",
   "execution_count": 112,
   "id": "b8db4224",
   "metadata": {},
   "outputs": [
    {
     "data": {
      "text/plain": [
       "{'criterion': 'gini',\n",
       " 'max_depth': 10,\n",
       " 'max_features': 'auto',\n",
       " 'max_leaf_nodes': 50,\n",
       " 'n_estimators': 70}"
      ]
     },
     "execution_count": 112,
     "metadata": {},
     "output_type": "execute_result"
    }
   ],
   "source": [
    "# 최적의 하이퍼 파라미터 셋\n",
    "CV_rfc.best_params_"
   ]
  },
  {
   "cell_type": "code",
   "execution_count": 113,
   "id": "76567cf5",
   "metadata": {},
   "outputs": [
    {
     "name": "stdout",
     "output_type": "stream",
     "text": [
      "                                                params  mean_test_score\n",
      "161  {'criterion': 'entropy', 'max_depth': 20, 'max...         1.000000\n",
      "128  {'criterion': 'entropy', 'max_depth': 15, 'max...         1.000000\n",
      "62   {'criterion': 'gini', 'max_depth': 20, 'max_fe...         1.000000\n",
      "122  {'criterion': 'entropy', 'max_depth': 15, 'max...         1.000000\n",
      "59   {'criterion': 'gini', 'max_depth': 20, 'max_fe...         1.000000\n",
      "..                                                 ...              ...\n",
      "57   {'criterion': 'gini', 'max_depth': 20, 'max_fe...         0.992857\n",
      "55   {'criterion': 'gini', 'max_depth': 20, 'max_fe...         0.992857\n",
      "54   {'criterion': 'gini', 'max_depth': 20, 'max_fe...         0.992857\n",
      "52   {'criterion': 'gini', 'max_depth': 15, 'max_fe...         0.992857\n",
      "81   {'criterion': 'entropy', 'max_depth': 10, 'max...         0.992857\n",
      "\n",
      "[162 rows x 2 columns]\n"
     ]
    }
   ],
   "source": [
    "result_table = pd.DataFrame(CV_rfc.cv_results_)\n",
    "result_table = result_table.sort_values(by='mean_test_score', ascending=False)\n",
    "print(result_table[['params', 'mean_test_score']])"
   ]
  },
  {
   "cell_type": "code",
   "execution_count": 114,
   "id": "3ee2a16f",
   "metadata": {},
   "outputs": [
    {
     "data": {
      "text/plain": [
       "RandomForestClassifier(max_depth=10, max_leaf_nodes=50, n_estimators=70,\n",
       "                       random_state=2021)"
      ]
     },
     "execution_count": 114,
     "metadata": {},
     "output_type": "execute_result"
    }
   ],
   "source": [
    "best_rfc = CV_rfc.best_estimator_\n",
    "best_rfc.fit(X_train, y_train)"
   ]
  },
  {
   "cell_type": "code",
   "execution_count": 115,
   "id": "911b1736",
   "metadata": {},
   "outputs": [
    {
     "name": "stdout",
     "output_type": "stream",
     "text": [
      "Train set에 대한 성능\n",
      "정확도:1.0000\n",
      "\n",
      "\n",
      "Test set에 대한 성능\n",
      "정확도:0.9833\n"
     ]
    }
   ],
   "source": [
    "# Train set에 대한 성능\n",
    "y_pred = best_rfc.predict(X_train)\n",
    "acc = accuracy_score(y_true = y_train, y_pred =y_pred)\n",
    "print(\"Train set에 대한 성능\")  \n",
    "print(f\"정확도:{acc:0.4f}\")  \n",
    "\n",
    "# Test set에 대한 성능\n",
    "y_pred = best_rfc.predict(X_test)\n",
    "acc = accuracy_score(y_true = y_test, y_pred =y_pred)\n",
    "print(\"\\n\")  \n",
    "print(\"Test set에 대한 성능\")  \n",
    "print(f\"정확도:{acc:0.4f}\")  "
   ]
  },
  {
   "cell_type": "code",
   "execution_count": 116,
   "id": "7f129a57",
   "metadata": {},
   "outputs": [
    {
     "name": "stdout",
     "output_type": "stream",
     "text": [
      "정확도:0.9833  |  민감도:0.9885  |  정밀도:0.9722\n"
     ]
    }
   ],
   "source": [
    "from sklearn.metrics import accuracy_score, recall_score, precision_score, mean_squared_error, mean_absolute_error, r2_score\n",
    "from sklearn.metrics import recall_score, precision_score\n",
    "\n",
    "recall = recall_score(y_true=y_test, y_pred=y_pred, average='macro')\n",
    "precision = precision_score(y_true=y_test, y_pred=y_pred, average='macro')\n",
    "\n",
    "\n",
    "print(f\"정확도:{acc:0.4f}\",f\"민감도:{recall:0.4f}\",f\"정밀도:{precision:0.4f}\", sep='  |  ') "
   ]
  },
  {
   "cell_type": "code",
   "execution_count": 117,
   "id": "bd8c8eb6",
   "metadata": {},
   "outputs": [
    {
     "name": "stderr",
     "output_type": "stream",
     "text": [
      "/Users/sim-yeji/opt/anaconda3/lib/python3.9/site-packages/sklearn/utils/deprecation.py:87: FutureWarning: Function plot_confusion_matrix is deprecated; Function `plot_confusion_matrix` is deprecated in 1.0 and will be removed in 1.2. Use one of the class methods: ConfusionMatrixDisplay.from_predictions or ConfusionMatrixDisplay.from_estimator.\n",
      "  warnings.warn(msg, category=FutureWarning)\n"
     ]
    },
    {
     "data": {
      "image/png": "[encoded data removed]",
      "text/plain": [
       "<Figure size 640x480 with 2 Axes>"
      ]
     },
     "metadata": {},
     "output_type": "display_data"
    }
   ],
   "source": [
    "from sklearn.metrics import plot_confusion_matrix\n",
    "plot_confusion_matrix(best_rfc, X_test, y_test, cmap=plt.cm.Blues)\n",
    "plt.show()  \n",
    "\n",
    "#예측값은 1 실제값은 2 인게 한개"
   ]
  },
  {
   "cell_type": "code",
   "execution_count": null,
   "id": "ad473fe4",
   "metadata": {},
   "outputs": [],
   "source": []
  }
 ],
 "metadata": {
  "kernelspec": {
   "display_name": "Python 3 (ipykernel)",
   "language": "python",
   "name": "python3"
  },
  "language_info": {
   "codemirror_mode": {
    "name": "ipython",
    "version": 3
   },
   "file_extension": ".py",
   "mimetype": "text/x-python",
   "name": "python",
   "nbconvert_exporter": "python",
   "pygments_lexer": "ipython3",
   "version": "3.9.13"
  }
 },
 "nbformat": 4,
 "nbformat_minor": 5
}
