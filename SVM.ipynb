{
 "cells": [
  {
   "cell_type": "code",
   "execution_count": 24,
   "id": "15e76fb0",
   "metadata": {},
   "outputs": [
    {
     "name": "stdout",
     "output_type": "stream",
     "text": [
      "[[-0.0, -0.0], [0.0, 0.0], [-0.0, -0.0], [-0.0, -0.0], [0.0, 0.0], [-0.0, 0.0], [-0.0, -0.0], [-0.0, 0.0], [0.0, 0.0], [0.0, 0.0], [-0.0, -0.0], [0.0, 0.0], [0.0, 0.0], [-0.0, -0.0], [-0.0, 0.0], [0.0, -0.0], [0.0, -0.0], [-0.0, -0.0], [0.0, -0.0], [0.0, -0.0], [-0.0, -0.0], [-0.0, -0.0], [-0.0, 0.0], [-0.0, 0.0], [-0.0, 0.0], [0.0, 0.0], [0.0, 0.0], [0.0, 0.0], [-0.0, 0.0], [-0.0, 0.0], [-0.0, -0.0], [-0.0, 0.0], [-0.0, 0.0], [0.0, 0.0], [-0.0, -0.0], [0.0, 0.0], [-0.0, -0.0], [0.0, 0.0], [0.0, 0.0], [0.0, 0.0], [0.0, -0.0], [-0.0, -0.0], [-0.0, 0.0], [-0.0, -0.0], [-0.0, -0.0], [0.0, 0.0], [0.0, 0.0], [0.0, 0.0], [-0.0, -0.0], [0.0, 0.0], [0.0, -999.5], [0.0, -999.5], [-0.0, -999.5], [0.0, -999.5], [-0.0, -999.5], [-0.0, -999.5], [-0.0, -999.5], [0.0, -999.5], [0.0, -999.5], [-0.0, -999.5], [0.0, -999.5], [0.0, -999.5], [-0.0, -999.5], [-0.0, -999.5], [-0.0, -999.5], [-0.0, -999.5], [0.0, -999.5], [-0.0, -999.5], [0.0, -999.5], [0.0, -999.5], [0.0, -999.5], [-0.0, -999.5], [0.0, -999.5], [0.0, -999.5], [-0.0, -999.5], [-0.0, -999.5], [-0.0, -999.5], [0.0, -999.5], [-0.0, -999.5], [0.0, -999.5], [0.0, -999.5], [0.0, -999.5], [0.0, -999.5], [0.0, -999.5], [-0.0, -999.5], [0.0, -999.5], [0.0, -999.5], [-0.0, -999.5], [0.0, -999.5], [-0.0, -999.5], [0.0, -999.5], [-0.0, -999.5], [-0.0, -999.5], [0.0, -999.5], [-0.0, -999.5], [-0.0, -999.5], [0.0, -999.5], [0.0, -999.5], [0.0, -999.5], [0.0, -999.5], [-0.24, 0.52], [-0.74, 1.5], [-1.76, 0.8], [-0.51, 1.69], [-1.18, 1.23], [-1.81, 1.24], [-1.29, 1.23], [-1.45, 0.92], [-0.05, 0.29], [-1.61, 0.05], [-1.9, 0.32], [-0.16, 1.81], [-1.32, 1.15], [-1.38, 1.05], [-0.33, 1.57], [-0.38, 0.31], [-1.84, 0.72], [-0.67, 1.47], [-0.9, 1.21], [-0.93, 0.08], [-1.73, 0.31], [-1.18, 1.07], [-1.7, 0.27], [-0.19, 0.86], [-0.79, 0.72], [-1.83, 0.94], [-0.97, 1.68], [-1.44, 0.6], [-1.92, 1.69], [-1.78, 1.0], [-1.25, 0.29], [-1.18, 0.74], [-0.26, 1.81], [-0.21, 1.23], [-1.5, 0.99], [-0.11, 0.85], [-1.47, 0.34], [-0.7, 1.3], [-0.33, 1.47], [-0.37, 0.58], [-0.64, 0.65], [-1.07, 0.05], [-1.4, 1.48], [-1.08, -0.09], [-0.81, 1.39], [-1.84, 1.1], [-1.1, 1.69], [-0.82, 0.4], [-0.61, 0.62], [-1.78, 1.19], [-1.35, 7.97], [-1.62, 5.97], [-1.7, 5.05], [-1.8, 5.78], [-1.91, 7.45], [-0.92, 6.23], [-1.38, 7.22], [-1.65, 7.6], [-1.7, 8.45], [-1.07, 9.23], [-1.24, 9.08], [-1.07, 7.37], [-1.43, 9.69], [-1.47, 9.04], [-1.45, 7.01], [-0.88, 7.83], [-1.84, 8.28], [-1.2, 5.38], [-0.97, 6.14], [-1.3, 8.69], [-1.45, 8.32], [-1.28, 9.56], [-1.68, 5.73], [-1.63, 9.53], [-1.85, 6.84], [-1.66, 7.78], [-1.16, 7.41], [-1.11, 5.88], [-1.41, 9.58], [-1.31, 5.73], [-1.4, 9.88], [-1.54, 7.14], [-1.08, 7.08], [-1.3, 9.34], [-1.1, 5.13], [-1.48, 7.59], [-1.39, 8.51], [-1.27, 9.05], [-0.96, 8.5], [-1.55, 7.28], [-1.1, 8.17], [-1.48, 8.46], [-1.67, 6.21], [-1.8, 7.59], [-1.03, 8.52], [-1.78, 7.13], [-1.52, 5.38], [-1.06, 5.72], [-1.25, 5.72], [-1.18, 8.97]]\n",
      "[0, 0, 0, 0, 0, 0, 0, 0, 0, 0, 0, 0, 0, 0, 0, 0, 0, 0, 0, 0, 0, 0, 0, 0, 0, 0, 0, 0, 0, 0, 0, 0, 0, 0, 0, 0, 0, 0, 0, 0, 0, 0, 0, 0, 0, 0, 0, 0, 0, 0, 1, 1, 1, 1, 1, 1, 1, 1, 1, 1, 1, 1, 1, 1, 1, 1, 1, 1, 1, 1, 1, 1, 1, 1, 1, 1, 1, 1, 1, 1, 1, 1, 1, 1, 1, 1, 1, 1, 1, 1, 1, 1, 1, 1, 1, 1, 1, 1, 1, 1, 2, 2, 2, 2, 2, 2, 2, 2, 2, 2, 2, 2, 2, 2, 2, 2, 2, 2, 2, 2, 2, 2, 2, 2, 2, 2, 2, 2, 2, 2, 2, 2, 2, 2, 2, 2, 2, 2, 2, 2, 2, 2, 2, 2, 2, 2, 2, 2, 2, 2, 2, 2, 2, 2, 2, 2, 2, 2, 2, 2, 2, 2, 2, 2, 2, 2, 2, 2, 2, 2, 2, 2, 2, 2, 2, 2, 2, 2, 2, 2, 2, 2, 2, 2, 2, 2, 2, 2, 2, 2, 2, 2, 2, 2, 2, 2, 2, 2, 2, 2]\n"
     ]
    }
   ],
   "source": [
    "import csv\n",
    "import numpy as np\n",
    "\n",
    "filename = 'merged_file_4d.csv'\n",
    "data = np.loadtxt(filename, delimiter=',', skiprows=1)\n",
    "ids = np.unique(data[:, 1])  # 물체 id 목록\n",
    "\n",
    "features = []\n",
    "labels = []\n",
    "\n",
    "# 물체별 가속도 계산\n",
    "for id in ids:\n",
    "    idx = np.where(data[:, 1] == id)[0]\n",
    "    t = data[idx, 0]\n",
    "    x = data[idx, 2]\n",
    "    y = data[idx, 3]\n",
    "\n",
    "    if id < 100:\n",
    "        dt = t[1] - t[0]\n",
    "        vx = np.diff(x) / dt  # x 방향 속도\n",
    "        vy = np.diff(y) / dt  # y 방향 속도\n",
    "        ax = np.diff(vx) / dt  # x 방향 가속도\n",
    "        ay = np.diff(vy) / dt  # y 방향 가속도\n",
    "        avg_ax = round(np.mean(ax),2)  # x 방향 평균 가속도\n",
    "        avg_ay = round(np.mean(ay),2)  # y 방향 평균 가속도\n",
    "\n",
    "     \n",
    "        if avg_ax == 0 and avg_ay == 0:\n",
    "            label = 0  # 직선 운동\n",
    "        elif avg_ax == 0 and avg_ay < 0:\n",
    "            label = 1  # 포물선 운동\n",
    "        else:\n",
    "            label = 2  # 바운싱 운동\n",
    "\n",
    "        features.append([avg_ax, avg_ay])\n",
    "        labels.append(label)\n",
    "\n",
    "    if id >= 100:\n",
    "        vx = np.diff(x) / np.diff(t)  # x 방향 가속도\n",
    "        vy = np.diff(y) / np.diff(t)  # y 방향 가속도\n",
    "        avg_ax = round(np.mean(vx),2)  # x 방향 평균 가속도\n",
    "        avg_ay = round(np.mean(vy),2)  # y 방향 평균 가속도\n",
    "\n",
    "      \n",
    "        if avg_ax == 0 and avg_ay == 0:\n",
    "            label = 0  # 직선 운동\n",
    "        elif avg_ax == 0 and avg_ay < 0:\n",
    "            label = 1  # 포물선 운동\n",
    "        else:\n",
    "            label = 2  # 바운싱 운동\n",
    "\n",
    "    \n",
    "        features.append([avg_ax, avg_ay])\n",
    "        labels.append(label)\n",
    "print(features)\n",
    "print(labels)"
   ]
  },
  {
   "cell_type": "markdown",
   "id": "88b25661",
   "metadata": {},
   "source": [
    "## train test data split"
   ]
  },
  {
   "cell_type": "code",
   "execution_count": 25,
   "id": "7fcb3ff0",
   "metadata": {},
   "outputs": [],
   "source": [
    "from sklearn.model_selection import train_test_split\n",
    "\n",
    "\n",
    "X_train, X_test, y_train, y_test = train_test_split(features, labels, test_size=0.3, random_state=42)"
   ]
  },
  {
   "cell_type": "markdown",
   "id": "dce98cd4",
   "metadata": {},
   "source": [
    "## data normalization"
   ]
  },
  {
   "cell_type": "code",
   "execution_count": 26,
   "id": "cec10f98",
   "metadata": {},
   "outputs": [
    {
     "name": "stdout",
     "output_type": "stream",
     "text": [
      "Train set dimension is (140, 2)\n",
      "Test set dimension is (60, 2)\n"
     ]
    }
   ],
   "source": [
    "from sklearn.preprocessing import StandardScaler\n",
    "\n",
    "\n",
    "normalizer = StandardScaler()\n",
    "X_train = normalizer.fit_transform(X_train)\n",
    "X_test = normalizer.transform(X_test)\n",
    "\n",
    "print(f'Train set dimension is {X_train.shape}')\n",
    "print(f'Test set dimension is {X_test.shape}')"
   ]
  },
  {
   "cell_type": "markdown",
   "id": "ef010e53",
   "metadata": {},
   "source": [
    "## Find best parameter"
   ]
  },
  {
   "cell_type": "code",
   "execution_count": 27,
   "id": "265fd557",
   "metadata": {},
   "outputs": [
    {
     "name": "stdout",
     "output_type": "stream",
     "text": [
      "# Tuning hyper-parameters for precision\n",
      "\n",
      "Fitting 10 folds for each of 40 candidates, totalling 400 fits\n"
     ]
    },
    {
     "name": "stderr",
     "output_type": "stream",
     "text": [
      "/Users/sim-yeji/opt/anaconda3/lib/python3.9/site-packages/sklearn/metrics/_classification.py:1318: UndefinedMetricWarning: Precision is ill-defined and being set to 0.0 in labels with no predicted samples. Use `zero_division` parameter to control this behavior.\n",
      "  _warn_prf(average, modifier, msg_start, len(result))\n",
      "/Users/sim-yeji/opt/anaconda3/lib/python3.9/site-packages/sklearn/metrics/_classification.py:1318: UndefinedMetricWarning: Precision is ill-defined and being set to 0.0 in labels with no predicted samples. Use `zero_division` parameter to control this behavior.\n",
      "  _warn_prf(average, modifier, msg_start, len(result))\n",
      "/Users/sim-yeji/opt/anaconda3/lib/python3.9/site-packages/sklearn/metrics/_classification.py:1318: UndefinedMetricWarning: Precision is ill-defined and being set to 0.0 in labels with no predicted samples. Use `zero_division` parameter to control this behavior.\n",
      "  _warn_prf(average, modifier, msg_start, len(result))\n",
      "/Users/sim-yeji/opt/anaconda3/lib/python3.9/site-packages/sklearn/metrics/_classification.py:1318: UndefinedMetricWarning: Precision is ill-defined and being set to 0.0 in labels with no predicted samples. Use `zero_division` parameter to control this behavior.\n",
      "  _warn_prf(average, modifier, msg_start, len(result))\n",
      "/Users/sim-yeji/opt/anaconda3/lib/python3.9/site-packages/sklearn/metrics/_classification.py:1318: UndefinedMetricWarning: Precision is ill-defined and being set to 0.0 in labels with no predicted samples. Use `zero_division` parameter to control this behavior.\n",
      "  _warn_prf(average, modifier, msg_start, len(result))\n",
      "/Users/sim-yeji/opt/anaconda3/lib/python3.9/site-packages/sklearn/metrics/_classification.py:1318: UndefinedMetricWarning: Precision is ill-defined and being set to 0.0 in labels with no predicted samples. Use `zero_division` parameter to control this behavior.\n",
      "  _warn_prf(average, modifier, msg_start, len(result))\n",
      "/Users/sim-yeji/opt/anaconda3/lib/python3.9/site-packages/sklearn/metrics/_classification.py:1318: UndefinedMetricWarning: Precision is ill-defined and being set to 0.0 in labels with no predicted samples. Use `zero_division` parameter to control this behavior.\n",
      "  _warn_prf(average, modifier, msg_start, len(result))\n",
      "/Users/sim-yeji/opt/anaconda3/lib/python3.9/site-packages/sklearn/metrics/_classification.py:1318: UndefinedMetricWarning: Precision is ill-defined and being set to 0.0 in labels with no predicted samples. Use `zero_division` parameter to control this behavior.\n",
      "  _warn_prf(average, modifier, msg_start, len(result))\n",
      "/Users/sim-yeji/opt/anaconda3/lib/python3.9/site-packages/sklearn/metrics/_classification.py:1318: UndefinedMetricWarning: Precision is ill-defined and being set to 0.0 in labels with no predicted samples. Use `zero_division` parameter to control this behavior.\n",
      "  _warn_prf(average, modifier, msg_start, len(result))\n",
      "/Users/sim-yeji/opt/anaconda3/lib/python3.9/site-packages/sklearn/metrics/_classification.py:1318: UndefinedMetricWarning: Precision is ill-defined and being set to 0.0 in labels with no predicted samples. Use `zero_division` parameter to control this behavior.\n",
      "  _warn_prf(average, modifier, msg_start, len(result))\n",
      "/Users/sim-yeji/opt/anaconda3/lib/python3.9/site-packages/sklearn/metrics/_classification.py:1318: UndefinedMetricWarning: Precision is ill-defined and being set to 0.0 in labels with no predicted samples. Use `zero_division` parameter to control this behavior.\n",
      "  _warn_prf(average, modifier, msg_start, len(result))\n",
      "/Users/sim-yeji/opt/anaconda3/lib/python3.9/site-packages/sklearn/metrics/_classification.py:1318: UndefinedMetricWarning: Precision is ill-defined and being set to 0.0 in labels with no predicted samples. Use `zero_division` parameter to control this behavior.\n",
      "  _warn_prf(average, modifier, msg_start, len(result))\n"
     ]
    },
    {
     "name": "stdout",
     "output_type": "stream",
     "text": [
      "Best parameters set found on development set:\n",
      "\n",
      "{'C': 10, 'kernel': 'linear'}\n",
      "\n",
      "Grid scores on development set:\n",
      "\n",
      "0.957 (+/-0.111) for {'C': 0.1, 'kernel': 'linear'}\n",
      "0.968 (+/-0.104) for {'C': 1, 'kernel': 'linear'}\n",
      "0.993 (+/-0.040) for {'C': 10, 'kernel': 'linear'}\n",
      "0.993 (+/-0.040) for {'C': 100, 'kernel': 'linear'}\n",
      "0.993 (+/-0.040) for {'C': 1000, 'kernel': 'linear'}\n",
      "0.987 (+/-0.053) for {'C': 0.1, 'degree': 2, 'kernel': 'poly'}\n",
      "0.902 (+/-0.359) for {'C': 0.1, 'degree': 3, 'kernel': 'poly'}\n",
      "0.548 (+/-0.018) for {'C': 0.1, 'degree': 5, 'kernel': 'poly'}\n",
      "0.967 (+/-0.102) for {'C': 1, 'degree': 2, 'kernel': 'poly'}\n",
      "0.982 (+/-0.074) for {'C': 1, 'degree': 3, 'kernel': 'poly'}\n",
      "0.978 (+/-0.089) for {'C': 1, 'degree': 5, 'kernel': 'poly'}\n",
      "0.993 (+/-0.040) for {'C': 10, 'degree': 2, 'kernel': 'poly'}\n",
      "0.993 (+/-0.040) for {'C': 10, 'degree': 3, 'kernel': 'poly'}\n",
      "0.993 (+/-0.040) for {'C': 10, 'degree': 5, 'kernel': 'poly'}\n",
      "0.993 (+/-0.040) for {'C': 100, 'degree': 2, 'kernel': 'poly'}\n",
      "0.993 (+/-0.040) for {'C': 100, 'degree': 3, 'kernel': 'poly'}\n",
      "0.993 (+/-0.040) for {'C': 100, 'degree': 5, 'kernel': 'poly'}\n",
      "0.993 (+/-0.040) for {'C': 1000, 'degree': 2, 'kernel': 'poly'}\n",
      "0.993 (+/-0.040) for {'C': 1000, 'degree': 3, 'kernel': 'poly'}\n",
      "0.993 (+/-0.040) for {'C': 1000, 'degree': 5, 'kernel': 'poly'}\n",
      "0.957 (+/-0.111) for {'C': 0.1, 'gamma': 'auto', 'kernel': 'rbf'}\n",
      "0.957 (+/-0.111) for {'C': 0.1, 'gamma': 'scale', 'kernel': 'rbf'}\n",
      "0.971 (+/-0.091) for {'C': 1, 'gamma': 'auto', 'kernel': 'rbf'}\n",
      "0.971 (+/-0.091) for {'C': 1, 'gamma': 'scale', 'kernel': 'rbf'}\n",
      "0.993 (+/-0.040) for {'C': 10, 'gamma': 'auto', 'kernel': 'rbf'}\n",
      "0.993 (+/-0.040) for {'C': 10, 'gamma': 'scale', 'kernel': 'rbf'}\n",
      "0.993 (+/-0.040) for {'C': 100, 'gamma': 'auto', 'kernel': 'rbf'}\n",
      "0.993 (+/-0.040) for {'C': 100, 'gamma': 'scale', 'kernel': 'rbf'}\n",
      "0.993 (+/-0.040) for {'C': 1000, 'gamma': 'auto', 'kernel': 'rbf'}\n",
      "0.993 (+/-0.040) for {'C': 1000, 'gamma': 'scale', 'kernel': 'rbf'}\n",
      "0.957 (+/-0.111) for {'C': 0.1, 'gamma': 'auto', 'kernel': 'sigmoid'}\n",
      "0.957 (+/-0.111) for {'C': 0.1, 'gamma': 'scale', 'kernel': 'sigmoid'}\n",
      "0.963 (+/-0.113) for {'C': 1, 'gamma': 'auto', 'kernel': 'sigmoid'}\n",
      "0.963 (+/-0.113) for {'C': 1, 'gamma': 'scale', 'kernel': 'sigmoid'}\n",
      "0.987 (+/-0.053) for {'C': 10, 'gamma': 'auto', 'kernel': 'sigmoid'}\n",
      "0.987 (+/-0.053) for {'C': 10, 'gamma': 'scale', 'kernel': 'sigmoid'}\n",
      "0.993 (+/-0.040) for {'C': 100, 'gamma': 'auto', 'kernel': 'sigmoid'}\n",
      "0.993 (+/-0.040) for {'C': 100, 'gamma': 'scale', 'kernel': 'sigmoid'}\n",
      "0.993 (+/-0.040) for {'C': 1000, 'gamma': 'auto', 'kernel': 'sigmoid'}\n",
      "0.993 (+/-0.040) for {'C': 1000, 'gamma': 'scale', 'kernel': 'sigmoid'}\n",
      "\n",
      "Detailed classification report:\n",
      "\n",
      "The model is trained on the full development set.\n",
      "The scores are computed on the full evaluation set.\n",
      "\n",
      "              precision    recall  f1-score   support\n",
      "\n",
      "           0       1.00      1.00      1.00        11\n",
      "           1       1.00      1.00      1.00        20\n",
      "           2       1.00      1.00      1.00        29\n",
      "\n",
      "    accuracy                           1.00        60\n",
      "   macro avg       1.00      1.00      1.00        60\n",
      "weighted avg       1.00      1.00      1.00        60\n",
      "\n",
      "\n",
      "# Tuning hyper-parameters for recall\n",
      "\n",
      "Fitting 10 folds for each of 40 candidates, totalling 400 fits\n",
      "Best parameters set found on development set:\n",
      "\n",
      "{'C': 10, 'kernel': 'linear'}\n",
      "\n",
      "Grid scores on development set:\n",
      "\n",
      "0.962 (+/-0.103) for {'C': 0.1, 'kernel': 'linear'}\n",
      "0.971 (+/-0.097) for {'C': 1, 'kernel': 'linear'}\n",
      "0.995 (+/-0.029) for {'C': 10, 'kernel': 'linear'}\n",
      "0.995 (+/-0.029) for {'C': 100, 'kernel': 'linear'}\n",
      "0.995 (+/-0.029) for {'C': 1000, 'kernel': 'linear'}\n",
      "0.990 (+/-0.038) for {'C': 0.1, 'degree': 2, 'kernel': 'poly'}\n",
      "0.929 (+/-0.263) for {'C': 0.1, 'degree': 3, 'kernel': 'poly'}\n",
      "0.667 (+/-0.000) for {'C': 0.1, 'degree': 5, 'kernel': 'poly'}\n",
      "0.971 (+/-0.087) for {'C': 1, 'degree': 2, 'kernel': 'poly'}\n",
      "0.986 (+/-0.061) for {'C': 1, 'degree': 3, 'kernel': 'poly'}\n",
      "0.981 (+/-0.076) for {'C': 1, 'degree': 5, 'kernel': 'poly'}\n",
      "0.995 (+/-0.029) for {'C': 10, 'degree': 2, 'kernel': 'poly'}\n",
      "0.995 (+/-0.029) for {'C': 10, 'degree': 3, 'kernel': 'poly'}\n",
      "0.995 (+/-0.029) for {'C': 10, 'degree': 5, 'kernel': 'poly'}\n",
      "0.995 (+/-0.029) for {'C': 100, 'degree': 2, 'kernel': 'poly'}\n",
      "0.995 (+/-0.029) for {'C': 100, 'degree': 3, 'kernel': 'poly'}\n",
      "0.995 (+/-0.029) for {'C': 100, 'degree': 5, 'kernel': 'poly'}\n",
      "0.995 (+/-0.029) for {'C': 1000, 'degree': 2, 'kernel': 'poly'}\n",
      "0.995 (+/-0.029) for {'C': 1000, 'degree': 3, 'kernel': 'poly'}\n",
      "0.995 (+/-0.029) for {'C': 1000, 'degree': 5, 'kernel': 'poly'}\n",
      "0.962 (+/-0.103) for {'C': 0.1, 'gamma': 'auto', 'kernel': 'rbf'}\n",
      "0.962 (+/-0.103) for {'C': 0.1, 'gamma': 'scale', 'kernel': 'rbf'}\n",
      "0.976 (+/-0.077) for {'C': 1, 'gamma': 'auto', 'kernel': 'rbf'}\n",
      "0.976 (+/-0.077) for {'C': 1, 'gamma': 'scale', 'kernel': 'rbf'}\n",
      "0.995 (+/-0.029) for {'C': 10, 'gamma': 'auto', 'kernel': 'rbf'}\n",
      "0.995 (+/-0.029) for {'C': 10, 'gamma': 'scale', 'kernel': 'rbf'}\n",
      "0.995 (+/-0.029) for {'C': 100, 'gamma': 'auto', 'kernel': 'rbf'}\n",
      "0.995 (+/-0.029) for {'C': 100, 'gamma': 'scale', 'kernel': 'rbf'}\n",
      "0.995 (+/-0.029) for {'C': 1000, 'gamma': 'auto', 'kernel': 'rbf'}\n",
      "0.995 (+/-0.029) for {'C': 1000, 'gamma': 'scale', 'kernel': 'rbf'}\n",
      "0.962 (+/-0.103) for {'C': 0.1, 'gamma': 'auto', 'kernel': 'sigmoid'}\n",
      "0.962 (+/-0.103) for {'C': 0.1, 'gamma': 'scale', 'kernel': 'sigmoid'}\n",
      "0.967 (+/-0.105) for {'C': 1, 'gamma': 'auto', 'kernel': 'sigmoid'}\n",
      "0.967 (+/-0.105) for {'C': 1, 'gamma': 'scale', 'kernel': 'sigmoid'}\n",
      "0.990 (+/-0.038) for {'C': 10, 'gamma': 'auto', 'kernel': 'sigmoid'}\n",
      "0.990 (+/-0.038) for {'C': 10, 'gamma': 'scale', 'kernel': 'sigmoid'}\n",
      "0.995 (+/-0.029) for {'C': 100, 'gamma': 'auto', 'kernel': 'sigmoid'}\n",
      "0.995 (+/-0.029) for {'C': 100, 'gamma': 'scale', 'kernel': 'sigmoid'}\n",
      "0.995 (+/-0.029) for {'C': 1000, 'gamma': 'auto', 'kernel': 'sigmoid'}\n",
      "0.995 (+/-0.029) for {'C': 1000, 'gamma': 'scale', 'kernel': 'sigmoid'}\n",
      "\n",
      "Detailed classification report:\n",
      "\n",
      "The model is trained on the full development set.\n",
      "The scores are computed on the full evaluation set.\n",
      "\n",
      "              precision    recall  f1-score   support\n",
      "\n",
      "           0       1.00      1.00      1.00        11\n",
      "           1       1.00      1.00      1.00        20\n",
      "           2       1.00      1.00      1.00        29\n",
      "\n",
      "    accuracy                           1.00        60\n",
      "   macro avg       1.00      1.00      1.00        60\n",
      "weighted avg       1.00      1.00      1.00        60\n",
      "\n",
      "\n",
      "Fitting 10 folds for each of 40 candidates, totalling 400 fits\n"
     ]
    },
    {
     "data": {
      "text/plain": [
       "GridSearchCV(cv=10, estimator=SVC(random_state=2021), n_jobs=12,\n",
       "             param_grid=[{'C': [0.1, 1, 10, 100, 1000], 'kernel': ['linear']},\n",
       "                         {'C': [0.1, 1, 10, 100, 1000], 'degree': [2, 3, 5],\n",
       "                          'kernel': ['poly']},\n",
       "                         {'C': [0.1, 1, 10, 100, 1000],\n",
       "                          'gamma': ['auto', 'scale'], 'kernel': ['rbf']},\n",
       "                         {'C': [0.1, 1, 10, 100, 1000],\n",
       "                          'gamma': ['auto', 'scale'], 'kernel': ['sigmoid']}],\n",
       "             verbose=1)"
      ]
     },
     "execution_count": 27,
     "metadata": {},
     "output_type": "execute_result"
    }
   ],
   "source": [
    "from sklearn.svm import SVC\n",
    "from sklearn.model_selection import GridSearchCV\n",
    "from sklearn.metrics import classification_report\n",
    "\n",
    "svc = SVC(random_state=2021)\n",
    "param_grid = [{'kernel': ['linear'], 'C': [0.1, 1, 10, 100, 1000]},\n",
    "              {'kernel': ['poly'], 'degree':[2, 3, 5],'C': [0.1, 1, 10, 100, 1000]},\n",
    "              {'kernel': ['rbf'], 'gamma': ['auto', 'scale'],'C': [0.1, 1, 10, 100, 1000]},\n",
    "              {'kernel': ['sigmoid'], 'gamma': ['auto', 'scale'],'C': [0.1, 1, 10, 100, 1000]}]\n",
    "\n",
    "scores = ['precision', 'recall']\n",
    "for score in scores:\n",
    "    print(\"# Tuning hyper-parameters for %s\" % score)\n",
    "    print()\n",
    "    \n",
    "    CV_svc = GridSearchCV(estimator=svc, param_grid=param_grid, scoring = f'{score}_macro', cv=10, verbose=1 ,n_jobs=12)\n",
    "    CV_svc.fit(X_train, y_train)\n",
    "\n",
    "    print(\"Best parameters set found on development set:\")\n",
    "    print()\n",
    "    print(CV_svc.best_params_)\n",
    "    print()\n",
    "    print(\"Grid scores on development set:\")\n",
    "    print()\n",
    "    means = CV_svc.cv_results_['mean_test_score']\n",
    "    stds = CV_svc.cv_results_['std_test_score']\n",
    "    for mean, std, params in zip(means, stds, CV_svc.cv_results_['params']):\n",
    "        print(\"%0.3f (+/-%0.03f) for %r\"\n",
    "              % (mean, std * 2, params))\n",
    "    print()\n",
    "\n",
    "    print(\"Detailed classification report:\")\n",
    "    print()\n",
    "    print(\"The model is trained on the full development set.\")\n",
    "    print(\"The scores are computed on the full evaluation set.\")\n",
    "    print()\n",
    "    y_true, y_pred = y_test, CV_svc.predict(X_test)\n",
    "    print(classification_report(y_true, y_pred))\n",
    "    print()\n",
    "\n",
    "CV_svc = GridSearchCV(estimator=svc, param_grid=param_grid, cv=10, verbose=1 ,n_jobs=12)\n",
    "CV_svc.fit(X_train, y_train)"
   ]
  },
  {
   "cell_type": "code",
   "execution_count": 28,
   "id": "9becbc81",
   "metadata": {},
   "outputs": [
    {
     "data": {
      "text/plain": [
       "SVC(C=10, kernel='linear', random_state=2021)"
      ]
     },
     "execution_count": 28,
     "metadata": {},
     "output_type": "execute_result"
    }
   ],
   "source": [
    "best_svc = CV_svc.best_estimator_\n",
    "best_svc.fit(X_train, y_train)"
   ]
  },
  {
   "cell_type": "markdown",
   "id": "2025dace",
   "metadata": {},
   "source": [
    "## SVM Model fit, score"
   ]
  },
  {
   "cell_type": "code",
   "execution_count": 29,
   "id": "70a40c87",
   "metadata": {},
   "outputs": [
    {
     "name": "stdout",
     "output_type": "stream",
     "text": [
      "Train set에 대한 성능\n",
      "정확도:0.9929\n",
      "\n",
      "\n",
      "Test set에 대한 성능\n",
      "정확도:1.0000\n"
     ]
    }
   ],
   "source": [
    "# Train set에 대한 성능\n",
    "y_pred = best_svc.predict(X_train)\n",
    "acc = accuracy_score(y_true = y_train, y_pred =y_pred)\n",
    "print(\"Train set에 대한 성능\")  \n",
    "print(f\"정확도:{acc:0.4f}\")  \n",
    "\n",
    "# Test set에 대한 성능\n",
    "y_pred = best_svc.predict(X_test)\n",
    "acc = accuracy_score(y_true = y_test, y_pred =y_pred)\n",
    "print(\"\\n\")  \n",
    "print(\"Test set에 대한 성능\")  \n",
    "print(f\"정확도:{acc:0.4f}\") "
   ]
  },
  {
   "cell_type": "code",
   "execution_count": 30,
   "id": "de10a5fb",
   "metadata": {},
   "outputs": [
    {
     "name": "stdout",
     "output_type": "stream",
     "text": [
      "정확도:1.0000  |  민감도:1.0000  |  정밀도:1.0000\n"
     ]
    }
   ],
   "source": [
    "from sklearn.metrics import accuracy_score, recall_score, precision_score, mean_squared_error, mean_absolute_error, r2_score\n",
    "from sklearn.metrics import recall_score, precision_score\n",
    "\n",
    "recall = recall_score(y_true=y_test, y_pred=y_pred, average='macro')\n",
    "precision = precision_score(y_true=y_test, y_pred=y_pred, average='macro')\n",
    "\n",
    "\n",
    "print(f\"정확도:{acc:0.4f}\",f\"민감도:{recall:0.4f}\",f\"정밀도:{precision:0.4f}\", sep='  |  ') "
   ]
  },
  {
   "cell_type": "code",
   "execution_count": 31,
   "id": "bd2e6ebd",
   "metadata": {},
   "outputs": [
    {
     "name": "stderr",
     "output_type": "stream",
     "text": [
      "/Users/sim-yeji/opt/anaconda3/lib/python3.9/site-packages/sklearn/utils/deprecation.py:87: FutureWarning: Function plot_confusion_matrix is deprecated; Function `plot_confusion_matrix` is deprecated in 1.0 and will be removed in 1.2. Use one of the class methods: ConfusionMatrixDisplay.from_predictions or ConfusionMatrixDisplay.from_estimator.\n",
      "  warnings.warn(msg, category=FutureWarning)\n"
     ]
    },
    {
     "data": {
      "image/png": "[encoded data removed]",
      "text/plain": [
       "<Figure size 640x480 with 2 Axes>"
      ]
     },
     "metadata": {},
     "output_type": "display_data"
    }
   ],
   "source": [
    "from sklearn.metrics import plot_confusion_matrix\n",
    "import matplotlib.pyplot as plt\n",
    "\n",
    "plot_confusion_matrix(best_svc, X_test, y_test, cmap=plt.cm.Blues)\n",
    "plt.show() "
   ]
  },
  {
   "cell_type": "code",
   "execution_count": null,
   "id": "b2363ea7",
   "metadata": {},
   "outputs": [],
   "source": []
  }
 ],
 "metadata": {
  "kernelspec": {
   "display_name": "Python 3 (ipykernel)",
   "language": "python",
   "name": "python3"
  },
  "language_info": {
   "codemirror_mode": {
    "name": "ipython",
    "version": 3
   },
   "file_extension": ".py",
   "mimetype": "text/x-python",
   "name": "python",
   "nbconvert_exporter": "python",
   "pygments_lexer": "ipython3",
   "version": "3.9.13"
  }
 },
 "nbformat": 4,
 "nbformat_minor": 5
}
